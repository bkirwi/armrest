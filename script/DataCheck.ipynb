{
 "cells": [
  {
   "cell_type": "code",
   "execution_count": null,
   "id": "0cc12225",
   "metadata": {},
   "outputs": [],
   "source": [
    "import training\n",
    "\n",
    "tensors = training.load_tensors('../data/tensors/validset.txt')\n",
    "print(len(tensors))\n",
    "print(sum(len(t) for _, t in tensors))"
   ]
  },
  {
   "cell_type": "code",
   "execution_count": null,
   "id": "f50220ec",
   "metadata": {},
   "outputs": [],
   "source": [
    "%matplotlib notebook\n",
    "\n",
    "import matplotlib.pyplot as plt\n",
    "\n",
    "def show_batch(pairs, tensor=False):\n",
    "  fig, axs = plt.subplots(len(pairs), 1, figsize=(10,len(pairs) * 2))\n",
    "  for ax, (label, ink) in zip(axs, pairs):\n",
    "    ax.set_title(label)\n",
    "    ax.invert_yaxis()\n",
    "    if tensor:\n",
    "      strokes = [[]]\n",
    "      l = [0, 0, 0]\n",
    "      for p in ink:\n",
    "        xyz = [x + y for x, y in zip(l, p)]\n",
    "        strokes[-1].append(xyz)\n",
    "        if p[3] > 0.5:\n",
    "            strokes.append([])\n",
    "        l = xyz\n",
    "      ink = strokes[:] # remove the last appended (empty) array\n",
    "    \n",
    "    for stroke in ink:\n",
    "      ax.plot([p[0] for p in stroke], [p[1] for p in stroke])\n",
    "        \n",
    "    # ax.imshow(tf.transpose(data).numpy(), cmap='hot', interpolation='nearest')\n",
    "    ax.axis('equal')\n",
    "  plt.show()"
   ]
  },
  {
   "cell_type": "code",
   "execution_count": null,
   "id": "5158ca4b",
   "metadata": {},
   "outputs": [],
   "source": [
    "import random\n",
    "sample = [t for t in tensors if 'water' == t[0]]\n",
    "# random.shuffle(sample)\n",
    "sample = sample[:10]\n",
    "show_batch(sample, tensor=True)"
   ]
  },
  {
   "cell_type": "code",
   "execution_count": null,
   "id": "bc426fda",
   "metadata": {},
   "outputs": [],
   "source": [
    "plt.figure(figsize=(12,12))\n",
    "\n",
    "xs = []\n",
    "ys = []\n",
    "for _, t in tensors:\n",
    "    xs.extend(t[:,0])\n",
    "    ys.extend(t[:,1])\n",
    "plt.scatter(xs, ys, s=1, marker='.')\n",
    "len(xs)"
   ]
  },
  {
   "cell_type": "code",
   "execution_count": null,
   "id": "05a8571e",
   "metadata": {},
   "outputs": [],
   "source": [
    "plt.figure(figsize=(10,10))\n",
    "\n",
    "xs = []\n",
    "ys = []\n",
    "for _, t in tensors:\n",
    "    xs.extend(t[:,0])\n",
    "    ys.extend(t[:,2])\n",
    "plt.scatter(xs, ys, s=10, marker='.')\n",
    "len(xs)"
   ]
  },
  {
   "cell_type": "code",
   "execution_count": null,
   "id": "c385dbf7",
   "metadata": {},
   "outputs": [],
   "source": []
  }
 ],
 "metadata": {
  "kernelspec": {
   "display_name": "Python 3",
   "language": "python",
   "name": "python3"
  },
  "language_info": {
   "codemirror_mode": {
    "name": "ipython",
    "version": 3
   },
   "file_extension": ".py",
   "mimetype": "text/x-python",
   "name": "python",
   "nbconvert_exporter": "python",
   "pygments_lexer": "ipython3",
   "version": "3.8.5"
  }
 },
 "nbformat": 4,
 "nbformat_minor": 5
}
