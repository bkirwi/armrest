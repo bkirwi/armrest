{
 "cells": [
  {
   "cell_type": "markdown",
   "id": "ec1c08b7",
   "metadata": {},
   "source": [
    "# Input cleaning notebook\n",
    "\n",
    "The tablet generates files that include the raw ink data, and the best guess at the actual text. To use it as testing/training/validation data, we need to give the inks the correct labels. This notebook is for that."
   ]
  },
  {
   "cell_type": "code",
   "execution_count": null,
   "id": "0cc12225",
   "metadata": {},
   "outputs": [],
   "source": [
    "import training\n",
    "\n",
    "inks = training.load_inks('../handwriting.log')\n",
    "print(len(inks))"
   ]
  },
  {
   "cell_type": "code",
   "execution_count": null,
   "id": "f50220ec",
   "metadata": {},
   "outputs": [],
   "source": [
    "%matplotlib inline\n",
    "\n",
    "import matplotlib.pyplot as plt\n",
    "\n",
    "def show_batch(pairs, tensor=False):\n",
    "  fig, axs = plt.subplots(len(pairs), 1, figsize=(10,len(pairs) * 2))\n",
    "  if len(pairs) == 1:\n",
    "    axs = [axs]\n",
    "  for ax, (label, ink) in zip(axs, pairs):\n",
    "    ax.set_title(label)\n",
    "    ax.invert_yaxis()\n",
    "    if tensor:\n",
    "      strokes = [[]]\n",
    "      l = [0, 0, 0]\n",
    "      for p in ink:\n",
    "        xyz = [x + y for x, y in zip(l, p)]\n",
    "        strokes[-1].append(xyz)\n",
    "        if p[3] > 0.5:\n",
    "            strokes.append([])\n",
    "        l = xyz\n",
    "      ink = strokes[:] # remove the last appended (empty) array\n",
    "    \n",
    "    for stroke in ink:\n",
    "      ax.plot([p[0] for p in stroke], [p[1] for p in stroke])\n",
    "        \n",
    "    # ax.imshow(tf.transpose(data).numpy(), cmap='hot', interpolation='nearest')\n",
    "    ax.axis('equal')\n",
    "  plt.show()"
   ]
  },
  {
   "cell_type": "code",
   "execution_count": null,
   "id": "0e69d557",
   "metadata": {},
   "outputs": [],
   "source": [
    "corrected = []"
   ]
  },
  {
   "cell_type": "code",
   "execution_count": null,
   "id": "5158ca4b",
   "metadata": {},
   "outputs": [],
   "source": [
    "from IPython.display import clear_output\n",
    "inks_to_correct = inks[350:450]\n",
    "for guess, ink in inks_to_correct:\n",
    "    clear_output(wait=True)\n",
    "    show_batch([(guess, ink)])\n",
    "    actual = input()\n",
    "    if actual == '-':\n",
    "        continue\n",
    "    if actual == '':\n",
    "        actual = guess\n",
    "    corrected.append((actual, ink))"
   ]
  },
  {
   "cell_type": "code",
   "execution_count": null,
   "id": "bc426fda",
   "metadata": {},
   "outputs": [],
   "source": [
    "len(corrected)"
   ]
  },
  {
   "cell_type": "code",
   "execution_count": null,
   "id": "c385dbf7",
   "metadata": {},
   "outputs": [],
   "source": [
    "training.save_inks(corrected, 'cleaned-inks-3.txt')"
   ]
  }
 ],
 "metadata": {
  "kernelspec": {
   "display_name": "Python 3",
   "language": "python",
   "name": "python3"
  },
  "language_info": {
   "codemirror_mode": {
    "name": "ipython",
    "version": 3
   },
   "file_extension": ".py",
   "mimetype": "text/x-python",
   "name": "python",
   "nbconvert_exporter": "python",
   "pygments_lexer": "ipython3",
   "version": "3.8.5"
  }
 },
 "nbformat": 4,
 "nbformat_minor": 5
}
