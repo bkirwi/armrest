{
 "cells": [
  {
   "cell_type": "code",
   "execution_count": null,
   "id": "critical-universe",
   "metadata": {},
   "outputs": [],
   "source": [
    "import training"
   ]
  },
  {
   "cell_type": "code",
   "execution_count": null,
   "id": "pending-processor",
   "metadata": {},
   "outputs": [],
   "source": [
    "beziers = training.load_tensors(\"../data/beziers/trainset.txt\")"
   ]
  },
  {
   "cell_type": "code",
   "execution_count": null,
   "id": "afraid-gamma",
   "metadata": {},
   "outputs": [],
   "source": [
    "import numpy as np\n",
    "any(np.isnan(t).any() for _, t  in beziers)"
   ]
  },
  {
   "cell_type": "code",
   "execution_count": null,
   "id": "imperial-employee",
   "metadata": {},
   "outputs": [],
   "source": [
    "model.save(\"../data/models/locally-built\")"
   ]
  },
  {
   "cell_type": "code",
   "execution_count": null,
   "id": "handmade-insider",
   "metadata": {},
   "outputs": [],
   "source": [
    "%matplotlib inline\n",
    "\n",
    "import matplotlib.pyplot as plt\n",
    "\n",
    "def yank(dataset):\n",
    "  return next(iter(dataset))\n",
    "\n",
    "def show_batch(batch):\n",
    "  fig, axs = plt.subplots(len(batch), 1, figsize=(20,20))\n",
    "  for ax, (label, ink) in zip(axs, batch):\n",
    "    substrokes = []\n",
    "    for point in ink:\n",
    "      if point[3] > 0.5:\n",
    "        substrokes.append([])\n",
    "      if any(point):\n",
    "        substrokes[-1].append((point[0], point[1]))\n",
    "    ax.set_title(label)\n",
    "    for stroke in substrokes:\n",
    "      ax.plot([p[0] for p in stroke], [-p[1] for p in stroke])\n",
    "    # ax.imshow(tf.transpose(data).numpy(), cmap='hot', interpolation='nearest')\n",
    "    ax.axis('equal')\n",
    "  plt.show()"
   ]
  },
  {
   "cell_type": "code",
   "execution_count": null,
   "id": "female-archives",
   "metadata": {},
   "outputs": [],
   "source": [
    "numbers = training.load_text(\"../data/numbers.txt\")"
   ]
  },
  {
   "cell_type": "code",
   "execution_count": null,
   "id": "humanitarian-welcome",
   "metadata": {},
   "outputs": [],
   "source": [
    "show_batch(numbers)"
   ]
  },
  {
   "cell_type": "code",
   "execution_count": null,
   "id": "measured-lotus",
   "metadata": {},
   "outputs": [],
   "source": [
    "jabberwocky = training.load_inks(\"../data/sets/numbers.txt\")"
   ]
  },
  {
   "cell_type": "code",
   "execution_count": null,
   "id": "local-weapon",
   "metadata": {},
   "outputs": [],
   "source": [
    "def add_trailers(body):\n",
    "    for i in range(len(body)):\n",
    "        if body[i, 3] > 0.5:\n",
    "            body[i-1, 3] = -1.0\n",
    "            \n",
    "updated = [(t, add_trailers(b)) for (t, b) in jabberwocky]"
   ]
  },
  {
   "cell_type": "code",
   "execution_count": null,
   "id": "eligible-harvey",
   "metadata": {},
   "outputs": [],
   "source": [
    "training.save_text(jabberwocky, \"../data/inks\")"
   ]
  },
  {
   "cell_type": "code",
   "execution_count": null,
   "id": "b45fcb5e",
   "metadata": {},
   "outputs": [],
   "source": [
    "sum([1, 2], [3, 4])"
   ]
  },
  {
   "cell_type": "code",
   "execution_count": null,
   "id": "steady-abraham",
   "metadata": {},
   "outputs": [],
   "source": [
    "%matplotlib inline\n",
    "\n",
    "import matplotlib.pyplot as plt\n",
    "\n",
    "def yank(dataset):\n",
    "  return next(iter(dataset))\n",
    "\n",
    "def show_batch(pairs, tensor=False):\n",
    "  fig, axs = plt.subplots(len(pairs), 1, figsize=(20,len(pairs) * 2))\n",
    "  for ax, (label, ink) in zip(axs, pairs):\n",
    "    ax.set_title(label)\n",
    "    ax.invert_yaxis()\n",
    "    if tensor:\n",
    "      strokes = [[]]\n",
    "      l = [0, 0, 0]\n",
    "      for p in ink:\n",
    "        xyz = [x + y for x, y in zip(l, p)]\n",
    "        strokes[-1].append(xyz)\n",
    "        if p[3] > 0.5:\n",
    "            strokes.append([])\n",
    "        l = xyz\n",
    "      ink = strokes[:-1] # remove the last appended (empty) array\n",
    "    \n",
    "    for stroke in ink:\n",
    "      ax.plot([p[0] for p in stroke], [p[1] for p in stroke])\n",
    "        \n",
    "    # ax.imshow(tf.transpose(data).numpy(), cmap='hot', interpolation='nearest')\n",
    "    ax.axis('equal')\n",
    "  plt.show()"
   ]
  },
  {
   "cell_type": "code",
   "execution_count": null,
   "id": "turkish-frederick",
   "metadata": {},
   "outputs": [],
   "source": [
    "import training\n",
    "docdb = training.load_tensors(\"../data/tensors/iam-ondb-trainset.txt\")\n",
    "len(docdb)\n",
    "docdb[1]"
   ]
  },
  {
   "cell_type": "code",
   "execution_count": null,
   "id": "theoretical-magnet",
   "metadata": {
    "scrolled": true
   },
   "outputs": [],
   "source": [
    "show_batch(docdb[0:20], tensor=True)"
   ]
  },
  {
   "cell_type": "code",
   "execution_count": null,
   "id": "driven-committee",
   "metadata": {},
   "outputs": [],
   "source": [
    "import numpy as np\n",
    "\n",
    "new_ink = []\n",
    "for l, t in docdb:\n",
    "    strokes = [[]]\n",
    "    for step in t:\n",
    "        if step[3] > 0:\n",
    "            strokes.append([])\n",
    "        strokes[-1].append(step[:3])\n",
    "    new_ink.append((l, [np.array(s) for s in strokes]))\n",
    "    \n",
    "show_batch(new_ink)"
   ]
  },
  {
   "cell_type": "code",
   "execution_count": null,
   "id": "commercial-peripheral",
   "metadata": {},
   "outputs": [],
   "source": [
    "import numpy as np\n",
    "\n",
    "def levenstein(a, b):\n",
    "    len_a, len_b = len(a)+1, len(b)+1\n",
    "    matrix = np.zeros(shape=(len_a, len_b), dtype='int32')\n",
    "    matrix[:,0] = np.arange(len_a)\n",
    "    matrix[0,:] = np.arange(len_b)\n",
    "    for a_i, a_c in zip(range(1, len_a), a):\n",
    "        for b_i, b_c in zip(range(1, len_b), b):\n",
    "            if a_c == b_c:\n",
    "                matrix[a_i, b_i] = matrix[a_i-1, b_i-1]\n",
    "            else:\n",
    "                matrix[a_i, b_i] = 1 + min(matrix[a_i-1, b_i-1], matrix[a_i, b_i-1], matrix[a_i-1, b_i])\n",
    "    return matrix[-1, -1]\n",
    "\n",
    "def cer(pred, true):\n",
    "    return levenstein(pred, true) / len(true)\n",
    "\n",
    "cer(\"foo\", \"boor\")"
   ]
  },
  {
   "cell_type": "code",
   "execution_count": null,
   "id": "spectacular-hanging",
   "metadata": {},
   "outputs": [],
   "source": [
    "from math import sqrt\n",
    "\n",
    "def point_point_distance(a, b):\n",
    "    sqrt((a[0] - b[0]) ** 2 + (a[1] - b[1]) ** 2)\n",
    "\n",
    "def point_line_distance(start, end, point):\n",
    "    \n",
    "\n",
    "def douglas_peucker(ink):\n",
    "    start, end = 0\n",
    "    result = ink[0]\n",
    "    while ink[end, 3] < -0.5:\n",
    "        end += 1\n",
    "    \n"
   ]
  }
 ],
 "metadata": {
  "kernelspec": {
   "display_name": "Python 3",
   "language": "python",
   "name": "python3"
  },
  "language_info": {
   "codemirror_mode": {
    "name": "ipython",
    "version": 3
   },
   "file_extension": ".py",
   "mimetype": "text/x-python",
   "name": "python",
   "nbconvert_exporter": "python",
   "pygments_lexer": "ipython3",
   "version": "3.8.5"
  }
 },
 "nbformat": 4,
 "nbformat_minor": 5
}
