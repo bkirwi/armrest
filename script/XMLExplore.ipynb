{
 "cells": [
  {
   "cell_type": "code",
   "execution_count": null,
   "id": "annual-chinese",
   "metadata": {},
   "outputs": [],
   "source": [
    "import os\n",
    "from xml.etree import ElementTree\n",
    "\n",
    "tree = ElementTree.parse(\"../data/iam-docdb-1.0/851.inkml\")"
   ]
  },
  {
   "cell_type": "markdown",
   "id": "announced-latest",
   "metadata": {},
   "source": [
    "# Notes\n",
    "\n",
    "So, it appears that an inkml document is structured as follows:\n",
    "- A list of \"trace\" elements. Traces have their own special grammar for expressing a sequence of points, presumably because of how verbose XML is?\n",
    "- A nexted set of textView nodes at the bottom. This expresses the actual structure of the document... there's a top-level \"document\" view, several nodes underneath that like \"drawing\" and \"text block\", and some other stuff. These nodes reference the trace elements by id.\n",
    "\n",
    "I'm currently mostly interested in the text! One approach would be to:\n",
    "- build an id->tracedata map from the traces\n",
    "- scan through all nodes in the view tree... and if there's a transcription, append all the recursively-referenced traces into one big ink.\n",
    "\n",
    "InkML is [complicated](https://www.w3.org/TR/InkML/), but thankfully the docs seem fairly regularly structured, so I should be able to grab the relevant stuff without a proper parser or anything."
   ]
  },
  {
   "cell_type": "code",
   "execution_count": null,
   "id": "appropriate-chemistry",
   "metadata": {},
   "outputs": [],
   "source": [
    "tree"
   ]
  },
  {
   "cell_type": "code",
   "execution_count": null,
   "id": "antique-engineer",
   "metadata": {},
   "outputs": [],
   "source": [
    "traces = tree.findall(\"./trace\")"
   ]
  },
  {
   "cell_type": "code",
   "execution_count": null,
   "id": "spiritual-cocktail",
   "metadata": {},
   "outputs": [],
   "source": [
    "import numpy as np\n",
    "\n",
    "mapping = tree.find(\".//mapping\")\n",
    "mapping.attrib['type']\n",
    "matrix = mapping.find(\".//matrix\")\n",
    "m = np.array([[float(f) for f in line.split(\" \")] for line in matrix.text.split(\",\")[:-1]])[:3, :3]\n",
    "m * m"
   ]
  },
  {
   "cell_type": "code",
   "execution_count": null,
   "id": "magnetic-brown",
   "metadata": {},
   "outputs": [],
   "source": [
    "traces"
   ]
  },
  {
   "cell_type": "code",
   "execution_count": null,
   "id": "caring-oregon",
   "metadata": {},
   "outputs": [],
   "source": [
    "trace = traces[3]"
   ]
  },
  {
   "cell_type": "code",
   "execution_count": null,
   "id": "mature-scottish",
   "metadata": {},
   "outputs": [],
   "source": [
    "trace.text.split(\",\")"
   ]
  },
  {
   "cell_type": "code",
   "execution_count": null,
   "id": "ordered-toronto",
   "metadata": {},
   "outputs": [],
   "source": [
    "import re\n",
    "testlit = '1125 18432,\\'23\\'43,\"7\"-8,3-5,7 -3,6 2,6 8'\n",
    "numbers = [[float(n) for n in re.findall(r'-?[0-9]*\\.?[0-9]*', line) if n] for line in testlit.split(\",\")]"
   ]
  },
  {
   "cell_type": "code",
   "execution_count": null,
   "id": "molecular-houston",
   "metadata": {},
   "outputs": [],
   "source": [
    "import numpy as np\n",
    "\n",
    "points = []\n",
    "arrays = list(np.array(numbers))\n",
    "position = arrays[0]\n",
    "points.append(position)\n",
    "velocity = arrays[1]\n",
    "position = position + velocity\n",
    "points.append(position)\n",
    "for acceleration in arrays[2:]:\n",
    "    velocity = velocity + acceleration\n",
    "    position = position + velocity\n",
    "    points.append(position)\n",
    "    \n",
    "points"
   ]
  },
  {
   "cell_type": "code",
   "execution_count": null,
   "id": "placed-matthew",
   "metadata": {},
   "outputs": [],
   "source": [
    "import re\n",
    "\n",
    "def parse_trace_string(text):\n",
    "    # NB: we assume the usual pattern of pos, velocity, accel, accel...\n",
    "    # because it's really annoying to parse out the actual sigils.\n",
    "    numbers = [\n",
    "        [float(n) for n in re.findall(r'-?[0-9]*\\.?[0-9]*', line) if n]\n",
    "        for line in text.split(\",\")\n",
    "    ]\n",
    "    \n",
    "    points = []\n",
    "    arrays = list(np.array(numbers))\n",
    "    position = arrays[0]\n",
    "    points.append(position)\n",
    "    velocity = arrays[1]\n",
    "    position = position + velocity\n",
    "    points.append(position)\n",
    "    for acceleration in arrays[2:]:\n",
    "        velocity = velocity + acceleration\n",
    "        position = position + velocity\n",
    "        points.append(position)\n",
    "        \n",
    "    array = np.array(points)\n",
    "    array[:, 3] = 0.0\n",
    "    array[1, 3] = 1.0\n",
    "    array[-1, 3] = -1.0\n",
    "\n",
    "    return array"
   ]
  },
  {
   "cell_type": "code",
   "execution_count": null,
   "id": "graduate-depth",
   "metadata": {},
   "outputs": [],
   "source": [
    "id_to_trace = {\n",
    "    trace.attrib['{http://www.w3.org/XML/1998/namespace}id']: parse_trace_string(trace.text)\n",
    "    for trace in traces\n",
    "}"
   ]
  },
  {
   "cell_type": "code",
   "execution_count": null,
   "id": "incorporate-sound",
   "metadata": {},
   "outputs": [],
   "source": [
    "tree.findall('.//traceView')\n",
    "\n",
    "examples = []\n",
    "for view in :\n",
    "    annotation = view.find('./annotation')\n",
    "    if annotation is None:\n",
    "        continue\n",
    "    node_type = annotation.text\n",
    "    if not (node_type in ['Textline', 'Word']):\n",
    "        continue\n",
    "    transcription = view[1].text\n",
    "    traces = [\n",
    "        trace.attrib['traceDataRef'][1:]\n",
    "        for trace\n",
    "        in view.findall('.//traceView[@traceDataRef]')\n",
    "    ]\n",
    "    examples.append((transcription, np.concatenate([id_to_trace[t] for t in traces])))"
   ]
  },
  {
   "cell_type": "code",
   "execution_count": null,
   "id": "immune-connecticut",
   "metadata": {},
   "outputs": [],
   "source": []
  }
 ],
 "metadata": {
  "kernelspec": {
   "display_name": "Python 3",
   "language": "python",
   "name": "python3"
  },
  "language_info": {
   "codemirror_mode": {
    "name": "ipython",
    "version": 3
   },
   "file_extension": ".py",
   "mimetype": "text/x-python",
   "name": "python",
   "nbconvert_exporter": "python",
   "pygments_lexer": "ipython3",
   "version": "3.8.5"
  }
 },
 "nbformat": 4,
 "nbformat_minor": 5
}
